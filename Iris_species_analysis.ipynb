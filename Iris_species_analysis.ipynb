{
 "cells": [
  {
   "cell_type": "code",
   "execution_count": 4,
   "id": "0d83a98f-fae5-4b79-a58e-c28ae738cff1",
   "metadata": {},
   "outputs": [],
   "source": [
    "#Standards imports\n",
    "import os\n",
    "\n",
    "#Third-party imports\n",
    "import pandas as pd\n",
    "import numpy as np\n",
    "import matplotlib.pyplot as plt\n",
    "import seaborn as sns\n",
    "\n",
    "#Local imports"
   ]
  },
  {
   "cell_type": "code",
   "execution_count": 7,
   "id": "60faf291-6046-4e10-aac0-a30404a9a2b4",
   "metadata": {},
   "outputs": [],
   "source": [
    "sns.set()"
   ]
  }
 ],
 "metadata": {
  "kernelspec": {
   "display_name": "Python 3 (ipykernel)",
   "language": "python",
   "name": "python3"
  },
  "language_info": {
   "codemirror_mode": {
    "name": "ipython",
    "version": 3
   },
   "file_extension": ".py",
   "mimetype": "text/x-python",
   "name": "python",
   "nbconvert_exporter": "python",
   "pygments_lexer": "ipython3",
   "version": "3.12.0"
  }
 },
 "nbformat": 4,
 "nbformat_minor": 5
}
